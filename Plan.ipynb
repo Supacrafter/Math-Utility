{
 "cells": [
  {
   "cell_type": "markdown",
   "id": "41d81f73",
   "metadata": {},
   "source": [
    "# Goal: Create a graphing calculator CLI\n",
    "\n",
    "- Take in user input\n",
    "- Convert entered equation(s) into a graphable format\n",
    "- Plot them using matplotlib"
   ]
  },
  {
   "cell_type": "markdown",
   "id": "a4b33c93",
   "metadata": {},
   "source": [
    "## User input/conversion\n",
    "1. Prompt input\n",
    "2. Store input\n",
    "3. Convert it into useable data for matplotlib\n",
    "\n",
    "## Input\n",
    "- Will just store it via `input()`\n",
    "\n",
    "## Conversion\n",
    "Very tricky step, will need a lexer\n",
    "- Read input via lexer"
   ]
  },
  {
   "cell_type": "markdown",
   "id": "65a3f27a",
   "metadata": {},
   "source": []
  }
 ],
 "metadata": {
  "kernelspec": {
   "display_name": "Python 3.10.4 64-bit",
   "language": "python",
   "name": "python3"
  },
  "language_info": {
   "codemirror_mode": {
    "name": "ipython",
    "version": 3
   },
   "file_extension": ".py",
   "mimetype": "text/x-python",
   "name": "python",
   "nbconvert_exporter": "python",
   "pygments_lexer": "ipython3",
   "version": "3.10.4"
  },
  "vscode": {
   "interpreter": {
    "hash": "916dbcbb3f70747c44a77c7bcd40155683ae19c65e1c03b4aa3499c5328201f1"
   }
  }
 },
 "nbformat": 4,
 "nbformat_minor": 5
}
